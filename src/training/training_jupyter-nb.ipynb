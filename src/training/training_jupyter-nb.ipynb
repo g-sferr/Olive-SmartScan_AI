{
 "cells": [
  {
   "cell_type": "code",
   "execution_count": 5,
   "metadata": {},
   "outputs": [
    {
     "name": "stdout",
     "output_type": "stream",
     "text": [
      "CUDA is available. Number of GPUs: 1\n",
      "GPU 0: NVIDIA A100-SXM4-80GB\n",
      "  Memory Allocated: 0.00 MB\n",
      "  Memory Cached: 0.00 MB\n"
     ]
    }
   ],
   "source": [
    "\n",
    "import torch\n",
    " \n",
    "def check_gpu():\n",
    "    if torch.cuda.is_available():\n",
    "        print(f\"CUDA is available. Number of GPUs: {torch.cuda.device_count()}\")\n",
    "        for i in range(torch.cuda.device_count()):\n",
    "            print(f\"GPU {i}: {torch.cuda.get_device_name(i)}\")\n",
    "            print(f\"  Memory Allocated: {torch.cuda.memory_allocated(i)/1024**2:.2f} MB\")\n",
    "            print(f\"  Memory Cached: {torch.cuda.memory_reserved(i)/1024**2:.2f} MB\")\n",
    "    else:\n",
    "        print(\"CUDA is not available. No GPU detected.\")\n",
    " \n",
    "if __name__ == \"__main__\":\n",
    "    check_gpu()\n",
    "\n",
    "\n",
    "# model.train(data=yaml_file, epochs=100, batch=256, imgsz=640, device=['cuda:2','cuda:3','cuda:4','cuda:5'])\n",
    "\n",
    "import os, zipfile\n",
    "\n",
    "archivio = zipfile.ZipFile('c-v_rounds.zip')\n",
    "\n",
    "archivio.extractall(\"./c-v_rounds\")\n",
    "\n",
    "archivio.close()"
   ]
  },
  {
   "cell_type": "code",
   "execution_count": 8,
   "metadata": {},
   "outputs": [],
   "source": [
    "!export CUDA_LAUNCH_BLOCKING=1"
   ]
  },
  {
   "cell_type": "code",
   "execution_count": null,
   "metadata": {},
   "outputs": [],
   "source": [
    "from ultralytics import YOLO\n",
    " \n",
    "# YOLOv8n\tYOLOv8s\tYOLOv8m\tYOLOv8l\tYOLOv8x\n",
    "\n",
    "# Load a pretrained YOLO model (recommended for training)\n",
    "model = YOLO(\"yolov8x.pt\")\n",
    "\n",
    "#Optimizer utilizzato -> ADAM\n",
    "\n",
    "# Train the model using our yaml dataset for N epochs\n",
    "results = model.train(data=\"/home/GaetanoFrancesco/c-v_rounds/ROUND_1/1_config.yaml\", epochs=100, batch=16, imgsz=640, device=['cuda:0'])\n",
    "\n",
    "#results = model.train(data=\"coco128.yaml\", batch=64, epochs=3, device=['cuda:0'])\n",
    "\n"
   ]
  },
  {
   "cell_type": "code",
   "execution_count": 51,
   "metadata": {},
   "outputs": [
    {
     "name": "stdout",
     "output_type": "stream",
     "text": [
      "total 950596\n",
      "-rw-rw-r-- 1 1002 1002       854 Jul 17 17:58 Dockerfile\n",
      "drwxr-xr-x 7 root root      4096 Jul 18 08:12 c-v_rounds\n",
      "-rw-rw-r-- 1 1002 1002 973392996 Jul 17 17:39 c-v_rounds.zip\n",
      "-rw-rw-r-- 1 1002 1002      1706 Jul 17 17:58 requirements.txt\n"
     ]
    }
   ],
   "source": [
    "# Evaluate the model's performance on the validation set\n",
    "results = model.val()"
   ]
  }
 ],
 "metadata": {
  "kernelspec": {
   "display_name": "Python 3 (ipykernel)",
   "language": "python",
   "name": "python3"
  }
 },
 "nbformat": 4,
 "nbformat_minor": 2
}
